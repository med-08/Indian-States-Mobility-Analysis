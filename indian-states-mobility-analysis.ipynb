{
 "cells": [
  {
   "cell_type": "code",
   "execution_count": 1,
   "id": "552bdae3",
   "metadata": {
    "_cell_guid": "b1076dfc-b9ad-4769-8c92-a6c4dae69d19",
    "_uuid": "8f2839f25d086af736a60e9eeb907d3b93b6e0e5",
    "execution": {
     "iopub.execute_input": "2025-04-12T04:32:13.596149Z",
     "iopub.status.busy": "2025-04-12T04:32:13.595777Z",
     "iopub.status.idle": "2025-04-12T04:32:23.963748Z",
     "shell.execute_reply": "2025-04-12T04:32:23.962239Z"
    },
    "papermill": {
     "duration": 10.37435,
     "end_time": "2025-04-12T04:32:23.965670",
     "exception": false,
     "start_time": "2025-04-12T04:32:13.591320",
     "status": "completed"
    },
    "tags": []
   },
   "outputs": [
    {
     "name": "stdout",
     "output_type": "stream",
     "text": [
      "Requirement already satisfied: geopandas in /usr/local/lib/python3.11/dist-packages (0.14.4)\r\n",
      "Requirement already satisfied: fiona>=1.8.21 in /usr/local/lib/python3.11/dist-packages (from geopandas) (1.10.1)\r\n",
      "Requirement already satisfied: numpy>=1.22 in /usr/local/lib/python3.11/dist-packages (from geopandas) (1.26.4)\r\n",
      "Requirement already satisfied: packaging in /usr/local/lib/python3.11/dist-packages (from geopandas) (24.2)\r\n",
      "Requirement already satisfied: pandas>=1.4.0 in /usr/local/lib/python3.11/dist-packages (from geopandas) (2.2.3)\r\n",
      "Requirement already satisfied: pyproj>=3.3.0 in /usr/local/lib/python3.11/dist-packages (from geopandas) (3.7.0)\r\n",
      "Requirement already satisfied: shapely>=1.8.0 in /usr/local/lib/python3.11/dist-packages (from geopandas) (2.1.0)\r\n",
      "Requirement already satisfied: attrs>=19.2.0 in /usr/local/lib/python3.11/dist-packages (from fiona>=1.8.21->geopandas) (25.3.0)\r\n",
      "Requirement already satisfied: certifi in /usr/local/lib/python3.11/dist-packages (from fiona>=1.8.21->geopandas) (2025.1.31)\r\n",
      "Requirement already satisfied: click~=8.0 in /usr/local/lib/python3.11/dist-packages (from fiona>=1.8.21->geopandas) (8.1.8)\r\n",
      "Requirement already satisfied: click-plugins>=1.0 in /usr/local/lib/python3.11/dist-packages (from fiona>=1.8.21->geopandas) (1.1.1)\r\n",
      "Requirement already satisfied: cligj>=0.5 in /usr/local/lib/python3.11/dist-packages (from fiona>=1.8.21->geopandas) (0.7.2)\r\n",
      "Requirement already satisfied: mkl_fft in /usr/local/lib/python3.11/dist-packages (from numpy>=1.22->geopandas) (1.3.8)\r\n",
      "Requirement already satisfied: mkl_random in /usr/local/lib/python3.11/dist-packages (from numpy>=1.22->geopandas) (1.2.4)\r\n",
      "Requirement already satisfied: mkl_umath in /usr/local/lib/python3.11/dist-packages (from numpy>=1.22->geopandas) (0.1.1)\r\n",
      "Requirement already satisfied: mkl in /usr/local/lib/python3.11/dist-packages (from numpy>=1.22->geopandas) (2025.1.0)\r\n",
      "Requirement already satisfied: tbb4py in /usr/local/lib/python3.11/dist-packages (from numpy>=1.22->geopandas) (2022.1.0)\r\n",
      "Requirement already satisfied: mkl-service in /usr/local/lib/python3.11/dist-packages (from numpy>=1.22->geopandas) (2.4.1)\r\n",
      "Requirement already satisfied: python-dateutil>=2.8.2 in /usr/local/lib/python3.11/dist-packages (from pandas>=1.4.0->geopandas) (2.9.0.post0)\r\n",
      "Requirement already satisfied: pytz>=2020.1 in /usr/local/lib/python3.11/dist-packages (from pandas>=1.4.0->geopandas) (2025.2)\r\n",
      "Requirement already satisfied: tzdata>=2022.7 in /usr/local/lib/python3.11/dist-packages (from pandas>=1.4.0->geopandas) (2025.2)\r\n",
      "Requirement already satisfied: six>=1.5 in /usr/local/lib/python3.11/dist-packages (from python-dateutil>=2.8.2->pandas>=1.4.0->geopandas) (1.17.0)\r\n",
      "Requirement already satisfied: intel-openmp<2026,>=2024 in /usr/local/lib/python3.11/dist-packages (from mkl->numpy>=1.22->geopandas) (2024.2.0)\r\n",
      "Requirement already satisfied: tbb==2022.* in /usr/local/lib/python3.11/dist-packages (from mkl->numpy>=1.22->geopandas) (2022.1.0)\r\n",
      "Requirement already satisfied: tcmlib==1.* in /usr/local/lib/python3.11/dist-packages (from tbb==2022.*->mkl->numpy>=1.22->geopandas) (1.2.0)\r\n",
      "Requirement already satisfied: intel-cmplr-lib-rt in /usr/local/lib/python3.11/dist-packages (from mkl_umath->numpy>=1.22->geopandas) (2024.2.0)\r\n",
      "Requirement already satisfied: intel-cmplr-lib-ur==2024.2.0 in /usr/local/lib/python3.11/dist-packages (from intel-openmp<2026,>=2024->mkl->numpy>=1.22->geopandas) (2024.2.0)\r\n"
     ]
    }
   ],
   "source": [
    "!pip install geopandas\n",
    "import geopandas as gpd\n",
    "import pandas as pd\n",
    "import matplotlib.pyplot as plt\n",
    "from sklearn.ensemble import RandomForestClassifier\n",
    "from sklearn.model_selection import train_test_split\n",
    "from sklearn.metrics import classification_report"
   ]
  },
  {
   "cell_type": "code",
   "execution_count": 2,
   "id": "68f3369a",
   "metadata": {
    "execution": {
     "iopub.execute_input": "2025-04-12T04:32:23.973268Z",
     "iopub.status.busy": "2025-04-12T04:32:23.972795Z",
     "iopub.status.idle": "2025-04-12T04:32:25.593849Z",
     "shell.execute_reply": "2025-04-12T04:32:25.592793Z"
    },
    "papermill": {
     "duration": 1.626756,
     "end_time": "2025-04-12T04:32:25.595853",
     "exception": false,
     "start_time": "2025-04-12T04:32:23.969097",
     "status": "completed"
    },
    "tags": []
   },
   "outputs": [],
   "source": [
    "# Load the Shapefile\n",
    "states_path = \"/kaggle/input/india-gis-data/India States\"\n",
    "india_states = gpd.read_file(states_path)"
   ]
  },
  {
   "cell_type": "code",
   "execution_count": 3,
   "id": "d669b40d",
   "metadata": {
    "execution": {
     "iopub.execute_input": "2025-04-12T04:32:25.602998Z",
     "iopub.status.busy": "2025-04-12T04:32:25.602637Z",
     "iopub.status.idle": "2025-04-12T04:32:25.807122Z",
     "shell.execute_reply": "2025-04-12T04:32:25.806034Z"
    },
    "papermill": {
     "duration": 0.210437,
     "end_time": "2025-04-12T04:32:25.809323",
     "exception": false,
     "start_time": "2025-04-12T04:32:25.598886",
     "status": "completed"
    },
    "tags": []
   },
   "outputs": [],
   "source": [
    "# Reproject to a Projected CRS (for proper area/perimeter)\n",
    "india_states = india_states.to_crs(epsg=32644)  # UTM Zone 44N (meters)"
   ]
  },
  {
   "cell_type": "code",
   "execution_count": 4,
   "id": "45f0b23e",
   "metadata": {
    "execution": {
     "iopub.execute_input": "2025-04-12T04:32:25.816614Z",
     "iopub.status.busy": "2025-04-12T04:32:25.816283Z",
     "iopub.status.idle": "2025-04-12T04:32:25.828420Z",
     "shell.execute_reply": "2025-04-12T04:32:25.827405Z"
    },
    "papermill": {
     "duration": 0.018211,
     "end_time": "2025-04-12T04:32:25.830552",
     "exception": false,
     "start_time": "2025-04-12T04:32:25.812341",
     "status": "completed"
    },
    "tags": []
   },
   "outputs": [],
   "source": [
    "# Feature Engineering\n",
    "india_states[\"area_km2\"] = india_states.geometry.area / 1e6\n",
    "india_states[\"perimeter_km\"] = india_states.geometry.length / 1e3\n",
    "india_states[\"compactness\"] = (india_states[\"perimeter_km\"] ** 2) / (4 * 3.1416 * india_states[\"area_km2\"])"
   ]
  },
  {
   "cell_type": "code",
   "execution_count": 5,
   "id": "a5b9dd78",
   "metadata": {
    "execution": {
     "iopub.execute_input": "2025-04-12T04:32:25.842083Z",
     "iopub.status.busy": "2025-04-12T04:32:25.841456Z",
     "iopub.status.idle": "2025-04-12T04:32:25.849555Z",
     "shell.execute_reply": "2025-04-12T04:32:25.848655Z"
    },
    "papermill": {
     "duration": 0.015994,
     "end_time": "2025-04-12T04:32:25.851349",
     "exception": false,
     "start_time": "2025-04-12T04:32:25.835355",
     "status": "completed"
    },
    "tags": []
   },
   "outputs": [],
   "source": [
    "# Generate Mobility Labels (Heuristic)\n",
    "def classify_terrain(row):\n",
    "    if row[\"area_km2\"] > 200000 or row[\"compactness\"] > 30:\n",
    "        return \"Difficult\"\n",
    "    elif row[\"area_km2\"] > 80000 or row[\"compactness\"] > 20:\n",
    "        return \"Moderate\"\n",
    "    else:\n",
    "        return \"Easy\"\n",
    "india_states[\"mobility_class\"] = india_states.apply(classify_terrain, axis=1)"
   ]
  },
  {
   "cell_type": "code",
   "execution_count": 6,
   "id": "a50c774b",
   "metadata": {
    "execution": {
     "iopub.execute_input": "2025-04-12T04:32:25.858423Z",
     "iopub.status.busy": "2025-04-12T04:32:25.857998Z",
     "iopub.status.idle": "2025-04-12T04:32:26.028948Z",
     "shell.execute_reply": "2025-04-12T04:32:26.027935Z"
    },
    "papermill": {
     "duration": 0.176788,
     "end_time": "2025-04-12T04:32:26.031026",
     "exception": false,
     "start_time": "2025-04-12T04:32:25.854238",
     "status": "completed"
    },
    "tags": []
   },
   "outputs": [],
   "source": [
    "# Train Classifier\n",
    "X = india_states[[\"area_km2\", \"perimeter_km\", \"compactness\"]]\n",
    "y = india_states[\"mobility_class\"]\n",
    "X_train, X_test, y_train, y_test = train_test_split(X, y, stratify=y, random_state=42)\n",
    "\n",
    "model = RandomForestClassifier(n_estimators=100, random_state=42)\n",
    "model.fit(X_train, y_train)\n",
    "y_pred = model.predict(X_test)"
   ]
  },
  {
   "cell_type": "code",
   "execution_count": 7,
   "id": "af4bc24e",
   "metadata": {
    "execution": {
     "iopub.execute_input": "2025-04-12T04:32:26.044260Z",
     "iopub.status.busy": "2025-04-12T04:32:26.043305Z",
     "iopub.status.idle": "2025-04-12T04:32:26.059507Z",
     "shell.execute_reply": "2025-04-12T04:32:26.058153Z"
    },
    "papermill": {
     "duration": 0.025492,
     "end_time": "2025-04-12T04:32:26.061532",
     "exception": false,
     "start_time": "2025-04-12T04:32:26.036040",
     "status": "completed"
    },
    "tags": []
   },
   "outputs": [
    {
     "name": "stdout",
     "output_type": "stream",
     "text": [
      "              precision    recall  f1-score   support\n",
      "\n",
      "   Difficult       0.50      0.50      0.50         2\n",
      "        Easy       1.00      1.00      1.00         4\n",
      "    Moderate       0.67      0.67      0.67         3\n",
      "\n",
      "    accuracy                           0.78         9\n",
      "   macro avg       0.72      0.72      0.72         9\n",
      "weighted avg       0.78      0.78      0.78         9\n",
      "\n"
     ]
    }
   ],
   "source": [
    "# Classification Report\n",
    "print(classification_report(y_test, y_pred))"
   ]
  },
  {
   "cell_type": "code",
   "execution_count": 8,
   "id": "5cd36a41",
   "metadata": {
    "execution": {
     "iopub.execute_input": "2025-04-12T04:32:26.069838Z",
     "iopub.status.busy": "2025-04-12T04:32:26.069399Z",
     "iopub.status.idle": "2025-04-12T04:32:26.739252Z",
     "shell.execute_reply": "2025-04-12T04:32:26.738241Z"
    },
    "papermill": {
     "duration": 0.676657,
     "end_time": "2025-04-12T04:32:26.741312",
     "exception": false,
     "start_time": "2025-04-12T04:32:26.064655",
     "status": "completed"
    },
    "tags": []
   },
   "outputs": [
    {
     "data": {
      "image/png": "[encoded data removed]",
      "text/plain": [
       "<Figure size 1200x800 with 1 Axes>"
      ]
     },
     "metadata": {},
     "output_type": "display_data"
    }
   ],
   "source": [
    "# Visualize Classified Terrain\n",
    "fig, ax = plt.subplots(1, 1, figsize=(12, 8))\n",
    "india_states.plot(column=\"mobility_class\", cmap=\"YlOrRd\", legend=True, ax=ax)\n",
    "ax.set_title(\"Terrain Mobility Classification of Indian States\")\n",
    "ax.axis(\"off\")\n",
    "plt.show()"
   ]
  },
  {
   "cell_type": "code",
   "execution_count": 9,
   "id": "f2d07d3f",
   "metadata": {
    "execution": {
     "iopub.execute_input": "2025-04-12T04:32:26.750594Z",
     "iopub.status.busy": "2025-04-12T04:32:26.750269Z",
     "iopub.status.idle": "2025-04-12T04:32:26.790503Z",
     "shell.execute_reply": "2025-04-12T04:32:26.789410Z"
    },
    "papermill": {
     "duration": 0.046821,
     "end_time": "2025-04-12T04:32:26.792190",
     "exception": false,
     "start_time": "2025-04-12T04:32:26.745369",
     "status": "completed"
    },
    "tags": []
   },
   "outputs": [
    {
     "data": {
      "text/html": [
       "<div>\n",
       "<style scoped>\n",
       "    .dataframe tbody tr th:only-of-type {\n",
       "        vertical-align: middle;\n",
       "    }\n",
       "\n",
       "    .dataframe tbody tr th {\n",
       "        vertical-align: top;\n",
       "    }\n",
       "\n",
       "    .dataframe thead th {\n",
       "        text-align: right;\n",
       "    }\n",
       "</style>\n",
       "<table border=\"1\" class=\"dataframe\">\n",
       "  <thead>\n",
       "    <tr style=\"text-align: right;\">\n",
       "      <th></th>\n",
       "      <th>st_nm</th>\n",
       "      <th>area_km2</th>\n",
       "      <th>perimeter_km</th>\n",
       "      <th>compactness</th>\n",
       "      <th>mobility_class</th>\n",
       "    </tr>\n",
       "  </thead>\n",
       "  <tbody>\n",
       "    <tr>\n",
       "      <th>0</th>\n",
       "      <td>Andaman &amp; Nicobar Island</td>\n",
       "      <td>7817.854418</td>\n",
       "      <td>3557.418732</td>\n",
       "      <td>128.816506</td>\n",
       "      <td>Difficult</td>\n",
       "    </tr>\n",
       "    <tr>\n",
       "      <th>1</th>\n",
       "      <td>Arunanchal Pradesh</td>\n",
       "      <td>85847.950600</td>\n",
       "      <td>2616.734076</td>\n",
       "      <td>6.347144</td>\n",
       "      <td>Moderate</td>\n",
       "    </tr>\n",
       "    <tr>\n",
       "      <th>2</th>\n",
       "      <td>Assam</td>\n",
       "      <td>81210.148144</td>\n",
       "      <td>3004.427604</td>\n",
       "      <td>8.845091</td>\n",
       "      <td>Moderate</td>\n",
       "    </tr>\n",
       "    <tr>\n",
       "      <th>3</th>\n",
       "      <td>Bihar</td>\n",
       "      <td>94563.826622</td>\n",
       "      <td>2742.086443</td>\n",
       "      <td>6.327416</td>\n",
       "      <td>Moderate</td>\n",
       "    </tr>\n",
       "    <tr>\n",
       "      <th>4</th>\n",
       "      <td>Chandigarh</td>\n",
       "      <td>118.695624</td>\n",
       "      <td>52.694985</td>\n",
       "      <td>1.861628</td>\n",
       "      <td>Easy</td>\n",
       "    </tr>\n",
       "  </tbody>\n",
       "</table>\n",
       "</div>"
      ],
      "text/plain": [
       "                      st_nm      area_km2  perimeter_km  compactness  \\\n",
       "0  Andaman & Nicobar Island   7817.854418   3557.418732   128.816506   \n",
       "1        Arunanchal Pradesh  85847.950600   2616.734076     6.347144   \n",
       "2                     Assam  81210.148144   3004.427604     8.845091   \n",
       "3                     Bihar  94563.826622   2742.086443     6.327416   \n",
       "4                Chandigarh    118.695624     52.694985     1.861628   \n",
       "\n",
       "  mobility_class  \n",
       "0      Difficult  \n",
       "1       Moderate  \n",
       "2       Moderate  \n",
       "3       Moderate  \n",
       "4           Easy  "
      ]
     },
     "execution_count": 9,
     "metadata": {},
     "output_type": "execute_result"
    }
   ],
   "source": [
    "# Show data table\n",
    "india_states[[\"st_nm\", \"area_km2\", \"perimeter_km\", \"compactness\", \"mobility_class\"]].head()"
   ]
  },
  {
   "cell_type": "code",
   "execution_count": 10,
   "id": "e0e12744",
   "metadata": {
    "execution": {
     "iopub.execute_input": "2025-04-12T04:32:26.802041Z",
     "iopub.status.busy": "2025-04-12T04:32:26.801639Z",
     "iopub.status.idle": "2025-04-12T04:32:26.816881Z",
     "shell.execute_reply": "2025-04-12T04:32:26.815847Z"
    },
    "papermill": {
     "duration": 0.022028,
     "end_time": "2025-04-12T04:32:26.818543",
     "exception": false,
     "start_time": "2025-04-12T04:32:26.796515",
     "status": "completed"
    },
    "tags": []
   },
   "outputs": [],
   "source": [
    "india_states[[\"st_nm\", \"area_km2\", \"perimeter_km\", \"compactness\", \"mobility_class\"]].to_csv(\"terrain_mobility_classification.csv\", index=False)"
   ]
  }
 ],
 "metadata": {
  "kaggle": {
   "accelerator": "none",
   "dataSources": [
    {
     "datasetId": 868120,
     "sourceId": 1479321,
     "sourceType": "datasetVersion"
    }
   ],
   "dockerImageVersionId": 31012,
   "isGpuEnabled": false,
   "isInternetEnabled": true,
   "language": "python",
   "sourceType": "notebook"
  },
  "kernelspec": {
   "display_name": "Python 3",
   "language": "python",
   "name": "python3"
  },
  "language_info": {
   "codemirror_mode": {
    "name": "ipython",
    "version": 3
   },
   "file_extension": ".py",
   "mimetype": "text/x-python",
   "name": "python",
   "nbconvert_exporter": "python",
   "pygments_lexer": "ipython3",
   "version": "3.11.11"
  },
  "papermill": {
   "default_parameters": {},
   "duration": 19.346969,
   "end_time": "2025-04-12T04:32:27.744376",
   "environment_variables": {},
   "exception": null,
   "input_path": "__notebook__.ipynb",
   "output_path": "__notebook__.ipynb",
   "parameters": {},
   "start_time": "2025-04-12T04:32:08.397407",
   "version": "2.6.0"
  }
 },
 "nbformat": 4,
 "nbformat_minor": 5
}
